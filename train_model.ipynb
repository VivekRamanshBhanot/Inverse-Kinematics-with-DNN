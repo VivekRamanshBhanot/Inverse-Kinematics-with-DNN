{
 "cells": [
  {
   "cell_type": "code",
   "execution_count": 30,
   "source": [
    "import pandas as pd\r\n",
    "import numpy as np\r\n",
    "from sklearn.model_selection import train_test_split\r\n",
    "from sklearn.preprocessing import StandardScaler"
   ],
   "outputs": [],
   "metadata": {}
  },
  {
   "cell_type": "code",
   "execution_count": 31,
   "source": [
    "data = pd.read_csv('Data_folder/robo_coord_angle_dataset.csv')"
   ],
   "outputs": [],
   "metadata": {}
  },
  {
   "cell_type": "code",
   "execution_count": 32,
   "source": [
    "data.isnull().any()"
   ],
   "outputs": [
    {
     "output_type": "execute_result",
     "data": {
      "text/plain": [
       "Unnamed: 0    False\n",
       "x_coord       False\n",
       "y_coord       False\n",
       "z_coord       False\n",
       "alpha         False\n",
       "beta          False\n",
       "gamma         False\n",
       "dtype: bool"
      ]
     },
     "metadata": {},
     "execution_count": 32
    }
   ],
   "metadata": {}
  },
  {
   "cell_type": "code",
   "execution_count": 33,
   "source": [
    "data.head(10)"
   ],
   "outputs": [
    {
     "output_type": "execute_result",
     "data": {
      "text/html": [
       "<div>\n",
       "<style scoped>\n",
       "    .dataframe tbody tr th:only-of-type {\n",
       "        vertical-align: middle;\n",
       "    }\n",
       "\n",
       "    .dataframe tbody tr th {\n",
       "        vertical-align: top;\n",
       "    }\n",
       "\n",
       "    .dataframe thead th {\n",
       "        text-align: right;\n",
       "    }\n",
       "</style>\n",
       "<table border=\"1\" class=\"dataframe\">\n",
       "  <thead>\n",
       "    <tr style=\"text-align: right;\">\n",
       "      <th></th>\n",
       "      <th>Unnamed: 0</th>\n",
       "      <th>x_coord</th>\n",
       "      <th>y_coord</th>\n",
       "      <th>z_coord</th>\n",
       "      <th>alpha</th>\n",
       "      <th>beta</th>\n",
       "      <th>gamma</th>\n",
       "    </tr>\n",
       "  </thead>\n",
       "  <tbody>\n",
       "    <tr>\n",
       "      <th>0</th>\n",
       "      <td>0</td>\n",
       "      <td>12.524</td>\n",
       "      <td>-50.233</td>\n",
       "      <td>1432.786</td>\n",
       "      <td>104</td>\n",
       "      <td>-38</td>\n",
       "      <td>-90</td>\n",
       "    </tr>\n",
       "    <tr>\n",
       "      <th>1</th>\n",
       "      <td>1</td>\n",
       "      <td>7.796</td>\n",
       "      <td>-31.269</td>\n",
       "      <td>1432.445</td>\n",
       "      <td>104</td>\n",
       "      <td>-38</td>\n",
       "      <td>-88</td>\n",
       "    </tr>\n",
       "    <tr>\n",
       "      <th>2</th>\n",
       "      <td>2</td>\n",
       "      <td>3.074</td>\n",
       "      <td>-12.329</td>\n",
       "      <td>1431.422</td>\n",
       "      <td>104</td>\n",
       "      <td>-38</td>\n",
       "      <td>-86</td>\n",
       "    </tr>\n",
       "    <tr>\n",
       "      <th>3</th>\n",
       "      <td>3</td>\n",
       "      <td>-1.637</td>\n",
       "      <td>6.565</td>\n",
       "      <td>1429.718</td>\n",
       "      <td>104</td>\n",
       "      <td>-38</td>\n",
       "      <td>-84</td>\n",
       "    </tr>\n",
       "    <tr>\n",
       "      <th>4</th>\n",
       "      <td>4</td>\n",
       "      <td>-6.330</td>\n",
       "      <td>25.389</td>\n",
       "      <td>1427.336</td>\n",
       "      <td>104</td>\n",
       "      <td>-38</td>\n",
       "      <td>-82</td>\n",
       "    </tr>\n",
       "    <tr>\n",
       "      <th>5</th>\n",
       "      <td>5</td>\n",
       "      <td>-11.001</td>\n",
       "      <td>44.122</td>\n",
       "      <td>1424.278</td>\n",
       "      <td>104</td>\n",
       "      <td>-38</td>\n",
       "      <td>-80</td>\n",
       "    </tr>\n",
       "    <tr>\n",
       "      <th>6</th>\n",
       "      <td>6</td>\n",
       "      <td>-15.643</td>\n",
       "      <td>62.739</td>\n",
       "      <td>1420.549</td>\n",
       "      <td>104</td>\n",
       "      <td>-38</td>\n",
       "      <td>-78</td>\n",
       "    </tr>\n",
       "    <tr>\n",
       "      <th>7</th>\n",
       "      <td>7</td>\n",
       "      <td>-20.250</td>\n",
       "      <td>81.219</td>\n",
       "      <td>1416.152</td>\n",
       "      <td>104</td>\n",
       "      <td>-38</td>\n",
       "      <td>-76</td>\n",
       "    </tr>\n",
       "    <tr>\n",
       "      <th>8</th>\n",
       "      <td>8</td>\n",
       "      <td>-24.818</td>\n",
       "      <td>99.539</td>\n",
       "      <td>1411.093</td>\n",
       "      <td>104</td>\n",
       "      <td>-38</td>\n",
       "      <td>-74</td>\n",
       "    </tr>\n",
       "    <tr>\n",
       "      <th>9</th>\n",
       "      <td>9</td>\n",
       "      <td>-29.340</td>\n",
       "      <td>117.677</td>\n",
       "      <td>1405.378</td>\n",
       "      <td>104</td>\n",
       "      <td>-38</td>\n",
       "      <td>-72</td>\n",
       "    </tr>\n",
       "  </tbody>\n",
       "</table>\n",
       "</div>"
      ],
      "text/plain": [
       "   Unnamed: 0  x_coord  y_coord   z_coord  alpha  beta  gamma\n",
       "0           0   12.524  -50.233  1432.786    104   -38    -90\n",
       "1           1    7.796  -31.269  1432.445    104   -38    -88\n",
       "2           2    3.074  -12.329  1431.422    104   -38    -86\n",
       "3           3   -1.637    6.565  1429.718    104   -38    -84\n",
       "4           4   -6.330   25.389  1427.336    104   -38    -82\n",
       "5           5  -11.001   44.122  1424.278    104   -38    -80\n",
       "6           6  -15.643   62.739  1420.549    104   -38    -78\n",
       "7           7  -20.250   81.219  1416.152    104   -38    -76\n",
       "8           8  -24.818   99.539  1411.093    104   -38    -74\n",
       "9           9  -29.340  117.677  1405.378    104   -38    -72"
      ]
     },
     "metadata": {},
     "execution_count": 33
    }
   ],
   "metadata": {}
  },
  {
   "cell_type": "code",
   "execution_count": 34,
   "source": [
    "X_df = data.iloc[:, 1:4]\r\n",
    "Y_df = data.iloc[:, 4:]\r\n",
    "X = X_df.values\r\n",
    "Y = Y_df.values"
   ],
   "outputs": [],
   "metadata": {}
  },
  {
   "cell_type": "code",
   "execution_count": 38,
   "source": [
    "#splitting the dataset into train, valid, test in the ratio  of 6:2:2\r\n",
    "Xtrainval, Xtest, Ytrainval, Ytest = train_test_split(X, Y, test_size=0.2, random_state = 42)\r\n",
    "Xtrain, Xval, Ytrain, Yval = train_test_split(Xtrainval, Ytrainval, test_size=0.16, random_state = 42)"
   ],
   "outputs": [],
   "metadata": {}
  },
  {
   "cell_type": "code",
   "execution_count": 39,
   "source": [
    "#scaling (standard) X data as per Xtrain\r\n",
    "scaler = StandardScaler()\r\n",
    "Xtrain = scaler.fit_transform(Xtrain)\r\n",
    "Xval = scaler.transform(Xval)\r\n",
    "Xtest = scaler.transform(Xtest)"
   ],
   "outputs": [],
   "metadata": {}
  },
  {
   "cell_type": "code",
   "execution_count": null,
   "source": [],
   "outputs": [],
   "metadata": {}
  }
 ],
 "metadata": {
  "orig_nbformat": 4,
  "language_info": {
   "name": "python",
   "version": "3.8.5",
   "mimetype": "text/x-python",
   "codemirror_mode": {
    "name": "ipython",
    "version": 3
   },
   "pygments_lexer": "ipython3",
   "nbconvert_exporter": "python",
   "file_extension": ".py"
  },
  "kernelspec": {
   "name": "python3",
   "display_name": "Python 3.8.5 64-bit ('base': conda)"
  },
  "interpreter": {
   "hash": "ed225720166559e7176d3793db16a2fd8d295f725007103b21ac3099d2a89ee8"
  }
 },
 "nbformat": 4,
 "nbformat_minor": 2
}